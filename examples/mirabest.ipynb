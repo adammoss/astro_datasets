{
 "cells": [
  {
   "cell_type": "markdown",
   "source": [
    "<a href=\"https://colab.research.google.com/github/adammoss/astro_datasets/blob/main/examples/mirabest.ipynb\" target=\"_parent\"><img src=\"https://colab.research.google.com/assets/colab-badge.svg\" alt=\"Open In Colab\"/></a>"
   ],
   "metadata": {
    "collapsed": false,
    "pycharm": {
     "name": "#%% md\n"
    }
   }
  },
  {
   "cell_type": "code",
   "execution_count": null,
   "outputs": [],
   "source": [
    "import sys, platform, os\n",
    "import matplotlib\n",
    "from matplotlib import pyplot as plt\n",
    "import numpy as np\n",
    "import tensorflow as tf"
   ],
   "metadata": {
    "collapsed": false,
    "pycharm": {
     "name": "#%%\n"
    }
   }
  },
  {
   "cell_type": "code",
   "execution_count": null,
   "outputs": [],
   "source": [
    "%%javascript\n",
    "IPython.OutputArea.prototype._should_scroll = function(lines) {\n",
    "    return false;\n",
    "}"
   ],
   "metadata": {
    "collapsed": false,
    "pycharm": {
     "name": "#%%\n"
    }
   }
  },
  {
   "cell_type": "code",
   "execution_count": null,
   "outputs": [],
   "source": [
    "!pip install astro-datasets --upgrade\n",
    "!pip install tensorflow_datasets --upgrade"
   ],
   "metadata": {
    "collapsed": false,
    "pycharm": {
     "name": "#%%\n"
    }
   }
  },
  {
   "cell_type": "code",
   "execution_count": null,
   "outputs": [],
   "source": [
    "import tensorflow_datasets as tfds\n",
    "import astro_datasets"
   ],
   "metadata": {
    "collapsed": false,
    "pycharm": {
     "name": "#%%\n"
    }
   }
  },
  {
   "cell_type": "code",
   "execution_count": null,
   "outputs": [],
   "source": [
    "ds_train, info_train = tfds.load(name='mirabest/all', split='train', with_info=True, as_supervised=True)\n",
    "ds_test, info_test = tfds.load(name='mirabest/all', split='test', with_info=True, as_supervised=True)"
   ],
   "metadata": {
    "collapsed": false,
    "pycharm": {
     "name": "#%%\n"
    }
   }
  },
  {
   "cell_type": "code",
   "execution_count": null,
   "outputs": [],
   "source": [
    "print(info_train)"
   ],
   "metadata": {
    "collapsed": false,
    "pycharm": {
     "name": "#%%\n"
    }
   }
  },
  {
   "cell_type": "code",
   "execution_count": null,
   "outputs": [],
   "source": [
    "def img_to_float32(image, label):\n",
    "    return tf.image.convert_image_dtype(image, tf.float32), label"
   ],
   "metadata": {
    "collapsed": false,
    "pycharm": {
     "name": "#%%\n"
    }
   }
  },
  {
   "cell_type": "code",
   "execution_count": null,
   "outputs": [],
   "source": [
    "ds_train = ds_train.map(img_to_float32)\n",
    "ds_test = ds_test.map(img_to_float32)"
   ],
   "metadata": {
    "collapsed": false,
    "pycharm": {
     "name": "#%%\n"
    }
   }
  },
  {
   "cell_type": "code",
   "execution_count": null,
   "outputs": [],
   "source": [
    "x = np.stack([x for x, y in ds_train])\n",
    "print(len(x), np.mean(x), np.std(x))\n",
    "x = np.stack([x for x, y in ds_test])\n",
    "print(len(x), np.mean(x), np.std(x))"
   ],
   "metadata": {
    "collapsed": false,
    "pycharm": {
     "name": "#%%\n"
    }
   }
  },
  {
   "cell_type": "code",
   "execution_count": null,
   "outputs": [],
   "source": [
    "for d in ds_train.take(2):\n",
    "    inputs, label = d\n",
    "    print(label)\n",
    "    plt.figure(figsize=(6, 6))\n",
    "    plt.imshow(inputs[:,:,0])\n",
    "    plt.show()"
   ],
   "metadata": {
    "collapsed": false,
    "pycharm": {
     "name": "#%%\n"
    }
   }
  },
  {
   "cell_type": "code",
   "execution_count": null,
   "outputs": [],
   "source": [
    "ds_train_c, info_train_c = tfds.load(name='mirabest/confident', split='train', with_info=True, as_supervised=True)\n",
    "ds_test_c, info_test_c = tfds.load(name='mirabest/confident', split='test', with_info=True, as_supervised=True)"
   ],
   "metadata": {
    "collapsed": false,
    "pycharm": {
     "name": "#%%\n"
    }
   }
  },
  {
   "cell_type": "code",
   "execution_count": null,
   "outputs": [],
   "source": [
    "ds_train_c = ds_train_c.map(img_to_float32)\n",
    "ds_test_c = ds_test_c.map(img_to_float32)"
   ],
   "metadata": {
    "collapsed": false,
    "pycharm": {
     "name": "#%%\n"
    }
   }
  },
  {
   "cell_type": "code",
   "execution_count": null,
   "outputs": [],
   "source": [
    "x = np.stack([x for x, y in ds_train_c])\n",
    "print(len(x), np.mean(x), np.std(x))\n",
    "x = np.stack([x for x, y in ds_test_c])\n",
    "print(len(x), np.mean(x), np.std(x))"
   ],
   "metadata": {
    "collapsed": false,
    "pycharm": {
     "name": "#%%\n"
    }
   }
  },
  {
   "cell_type": "code",
   "execution_count": null,
   "outputs": [],
   "source": [
    "for d in ds_train_c.take(2):\n",
    "    inputs, label = d\n",
    "    print(label)\n",
    "    plt.figure(figsize=(6, 6))\n",
    "    plt.imshow(inputs[:,:,0])\n",
    "    plt.show()"
   ],
   "metadata": {
    "collapsed": false,
    "pycharm": {
     "name": "#%%\n"
    }
   }
  },
  {
   "cell_type": "code",
   "execution_count": 6,
   "metadata": {
    "colab": {
     "base_uri": "https://localhost:8080/"
    },
    "id": "D0fdL9qeGv0Y",
    "outputId": "3a6f3b0e-4d32-4826-a4b9-a1e27ddfa9fc",
    "pycharm": {
     "name": "#%%\n"
    }
   },
   "outputs": [
    {
     "name": "stdout",
     "output_type": "stream",
     "text": [
      "tfds.core.DatasetInfo(\n",
      "    name='mirabest',\n",
      "    full_name='mirabest/all/1.0.0',\n",
      "    description=\"\"\"\n",
      "    The MiraBest dataset consists of 1256 150x150 images in 10 classes. There are 1099 training images and 157 test images.\n",
      "    \"\"\",\n",
      "    homepage='https://zenodo.org/record/5588282#.Yr7X8HbMIjJ',\n",
      "    data_path='~/tensorflow_datasets/mirabest/all/1.0.0',\n",
      "    file_format=tfrecord,\n",
      "    download_size=778.33 KiB,\n",
      "    dataset_size=957.69 KiB,\n",
      "    features=FeaturesDict({\n",
      "        'id': Text(shape=(), dtype=tf.string),\n",
      "        'image': Image(shape=(150, 150, 1), dtype=tf.uint8),\n",
      "        'label': ClassLabel(shape=(), dtype=tf.int64, num_classes=10),\n",
      "    }),\n",
      "    supervised_keys=('image', 'label'),\n",
      "    disable_shuffling=False,\n",
      "    splits={\n",
      "        'test': <SplitInfo num_examples=157, num_shards=1>,\n",
      "        'train': <SplitInfo num_examples=1099, num_shards=1>,\n",
      "    },\n",
      "    citation=\"\"\"\"\"\",\n",
      ")\n"
     ]
    }
   ],
   "source": [
    "print(info_train)"
   ]
  },
  {
   "cell_type": "code",
   "execution_count": 7,
   "metadata": {
    "id": "RjWmOqTgGy9Q",
    "pycharm": {
     "name": "#%%\n"
    }
   },
   "outputs": [],
   "source": [
    "def img_to_float32(image, label):\n",
    "    return tf.image.convert_image_dtype(image, tf.float32), label"
   ]
  },
  {
   "cell_type": "code",
   "execution_count": 8,
   "metadata": {
    "id": "ZUUGJJlVG1kd",
    "pycharm": {
     "name": "#%%\n"
    }
   },
   "outputs": [],
   "source": [
    "ds_train = ds_train.map(img_to_float32)\n",
    "ds_test = ds_test.map(img_to_float32)"
   ]
  },
  {
   "cell_type": "code",
   "execution_count": 9,
   "metadata": {
    "colab": {
     "base_uri": "https://localhost:8080/"
    },
    "id": "13LZUMymG2wF",
    "outputId": "659ee750-fdb8-49ac-d58e-ced47c873294",
    "pycharm": {
     "name": "#%%\n"
    }
   },
   "outputs": [
    {
     "name": "stdout",
     "output_type": "stream",
     "text": [
      "1099 0.0030837825 0.03521365\n",
      "157 0.0030556363 0.035092767\n"
     ]
    }
   ],
   "source": [
    "x = np.stack([x for x, y in ds_train])\n",
    "print(len(x), np.mean(x), np.std(x))\n",
    "x = np.stack([x for x, y in ds_test])\n",
    "print(len(x), np.mean(x), np.std(x))"
   ]
  },
  {
   "cell_type": "code",
   "execution_count": 10,
   "metadata": {
    "colab": {
     "base_uri": "https://localhost:8080/",
     "height": 773
    },
    "id": "EOSwajraG-w0",
    "outputId": "00c1959d-6e18-4363-84db-d384c7fa7b75",
    "pycharm": {
     "name": "#%%\n"
    }
   },
   "outputs": [
    {
     "name": "stdout",
     "output_type": "stream",
     "text": [
      "tf.Tensor(0, shape=(), dtype=int64)\n"
     ]
    },
    {
     "data": {
      "image/png": "[encoded data removed]",
      "text/plain": [
       "<Figure size 432x432 with 1 Axes>"
      ]
     },
     "metadata": {
      "needs_background": "light"
     },
     "output_type": "display_data"
    },
    {
     "name": "stdout",
     "output_type": "stream",
     "text": [
      "tf.Tensor(3, shape=(), dtype=int64)\n"
     ]
    },
    {
     "data": {
      "image/png": "[encoded data removed]",
      "text/plain": [
       "<Figure size 432x432 with 1 Axes>"
      ]
     },
     "metadata": {
      "needs_background": "light"
     },
     "output_type": "display_data"
    }
   ],
   "source": [
    "for d in ds_train.take(2):\n",
    "    inputs, label = d\n",
    "    print(label)\n",
    "    plt.figure(figsize=(6, 6))\n",
    "    plt.imshow(inputs[:,:,0])\n",
    "    plt.show()"
   ]
  },
  {
   "cell_type": "code",
   "execution_count": 11,
   "metadata": {
    "id": "U5t3tpsiHA5A",
    "pycharm": {
     "name": "#%%\n"
    }
   },
   "outputs": [],
   "source": [
    "ds_train_c, info_train_c = tfds.load(name='mirabest/confident', split='train', with_info=True, as_supervised=True)\n",
    "ds_test_c, info_test_c = tfds.load(name='mirabest/confident', split='test', with_info=True, as_supervised=True)"
   ]
  },
  {
   "cell_type": "code",
   "execution_count": 12,
   "metadata": {
    "id": "PiUMaYjVHIUB",
    "pycharm": {
     "name": "#%%\n"
    }
   },
   "outputs": [],
   "source": [
    "ds_train_c = ds_train_c.map(img_to_float32)\n",
    "ds_test_c = ds_test_c.map(img_to_float32)"
   ]
  },
  {
   "cell_type": "code",
   "execution_count": 13,
   "metadata": {
    "colab": {
     "base_uri": "https://localhost:8080/"
    },
    "id": "7zuLqZ-mHKrI",
    "outputId": "4d698a2c-155b-480a-c303-d23077389361",
    "pycharm": {
     "name": "#%%\n"
    }
   },
   "outputs": [
    {
     "name": "stdout",
     "output_type": "stream",
     "text": [
      "729 0.0030894927 0.03498726\n",
      "104 0.0031453606 0.035372633\n"
     ]
    }
   ],
   "source": [
    "x = np.stack([x for x, y in ds_train_c])\n",
    "print(len(x), np.mean(x), np.std(x))\n",
    "x = np.stack([x for x, y in ds_test_c])\n",
    "print(len(x), np.mean(x), np.std(x))"
   ]
  },
  {
   "cell_type": "code",
   "execution_count": 14,
   "metadata": {
    "colab": {
     "base_uri": "https://localhost:8080/",
     "height": 773
    },
    "id": "y_7Fv8KBHMH7",
    "outputId": "7485ace4-8c10-4109-e39f-af4d97859f27",
    "pycharm": {
     "name": "#%%\n"
    }
   },
   "outputs": [
    {
     "name": "stdout",
     "output_type": "stream",
     "text": [
      "tf.Tensor(1, shape=(), dtype=int64)\n"
     ]
    },
    {
     "data": {
      "image/png": "[encoded data removed]",
      "text/plain": [
       "<Figure size 432x432 with 1 Axes>"
      ]
     },
     "metadata": {
      "needs_background": "light"
     },
     "output_type": "display_data"
    },
    {
     "name": "stdout",
     "output_type": "stream",
     "text": [
      "tf.Tensor(0, shape=(), dtype=int64)\n"
     ]
    },
    {
     "data": {
      "image/png": "[encoded data removed]",
      "text/plain": [
       "<Figure size 432x432 with 1 Axes>"
      ]
     },
     "metadata": {
      "needs_background": "light"
     },
     "output_type": "display_data"
    }
   ],
   "source": [
    "for d in ds_train_c.take(2):\n",
    "    inputs, label = d\n",
    "    print(label)\n",
    "    plt.figure(figsize=(6, 6))\n",
    "    plt.imshow(inputs[:,:,0])\n",
    "    plt.show()"
   ]
  },
  {
   "cell_type": "code",
   "execution_count": 14,
   "metadata": {
    "id": "VbZ7JVwuHSwO",
    "pycharm": {
     "name": "#%%\n"
    }
   },
   "outputs": [],
   "source": []
  }
 ],
 "metadata": {
  "colab": {
   "authorship_tag": "ABX9TyMU9evJC3dLs952SImzcvET",
   "include_colab_link": true,
   "provenance": []
  },
  "kernelspec": {
   "display_name": "Python 3 (ipykernel)",
   "language": "python",
   "name": "python3"
  },
  "language_info": {
   "codemirror_mode": {
    "name": "ipython",
    "version": 3
   },
   "file_extension": ".py",
   "mimetype": "text/x-python",
   "name": "python",
   "nbconvert_exporter": "python",
   "pygments_lexer": "ipython3",
   "version": "3.8.13"
  }
 },
 "nbformat": 4,
 "nbformat_minor": 1
}