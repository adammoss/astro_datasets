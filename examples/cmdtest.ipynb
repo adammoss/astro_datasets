{
 "cells": [
  {
   "cell_type": "code",
   "execution_count": 1,
   "metadata": {
    "collapsed": true,
    "pycharm": {
     "name": "#%%\n"
    }
   },
   "outputs": [
    {
     "name": "stderr",
     "output_type": "stream",
     "text": [
      "WARNING:absl:`tfds.core.add_checksums_dir` is deprecated. Refactor dataset in self-contained folders (`my_dataset/` folder containing my_dataset.py, my_dataset_test.py, dummy_data/, checksums.tsv). The checksum file will be automatically detected. More info at: https://www.tensorflow.org/datasets/add_dataset\n"
     ]
    }
   ],
   "source": [
    "import sys, platform, os\n",
    "import matplotlib\n",
    "from matplotlib import pyplot as plt\n",
    "import numpy as np\n",
    "import tensorflow_datasets as tfds\n",
    "import tensorflow as tf\n",
    "path = os.path.realpath(os.path.join(os.getcwd(),'../'))\n",
    "sys.path.insert(0, path)\n",
    "import astro_datasets\n",
    "import matplotlib.pyplot as plt"
   ]
  },
  {
   "cell_type": "code",
   "execution_count": 2,
   "outputs": [],
   "source": [
    "#ds, info = tfds.load(name='cmd', split='train', with_info=True, as_supervised=True, simulation='SIMBA',sim_set='LH',field='MTOT')\n",
    "ds, info = tfds.load(name='cmd', split='train', with_info=True, as_supervised=False, builder_kwargs={'simulation': 'SIMBA', 'sim_set': 'CV', 'field': 'Mtot'})"
   ],
   "metadata": {
    "collapsed": false,
    "pycharm": {
     "name": "#%%\n"
    }
   }
  },
  {
   "cell_type": "code",
   "execution_count": 3,
   "outputs": [
    {
     "ename": "ValueError",
     "evalue": "could not convert string to float: 'image'",
     "output_type": "error",
     "traceback": [
      "\u001B[1;31m---------------------------------------------------------------------------\u001B[0m",
      "\u001B[1;31mValueError\u001B[0m                                Traceback (most recent call last)",
      "Input \u001B[1;32mIn [3]\u001B[0m, in \u001B[0;36m<cell line: 1>\u001B[1;34m()\u001B[0m\n\u001B[0;32m      1\u001B[0m \u001B[38;5;28;01mfor\u001B[39;00m (x,y) \u001B[38;5;129;01min\u001B[39;00m ds:\n\u001B[1;32m----> 2\u001B[0m     plt\u001B[38;5;241m.\u001B[39mimshow(\u001B[38;5;28;43mfloat\u001B[39;49m\u001B[43m(\u001B[49m\u001B[43mx\u001B[49m\u001B[43m)\u001B[49m)\n\u001B[0;32m      3\u001B[0m     mean \u001B[38;5;241m=\u001B[39m np\u001B[38;5;241m.\u001B[39mmean(x)\n\u001B[0;32m      4\u001B[0m     std \u001B[38;5;241m=\u001B[39m np\u001B[38;5;241m.\u001B[39mstd(x)\n",
      "\u001B[1;31mValueError\u001B[0m: could not convert string to float: 'image'"
     ]
    }
   ],
   "source": [
    "for (x,y) in ds:\n",
    "    plt.imshow(float(x))\n",
    "    mean = np.mean(x)\n",
    "    std = np.std(x)\n",
    "print('Mean = ',mean)\n",
    "print('Standard deviation = ',std)\n",
    "print(y)"
   ],
   "metadata": {
    "collapsed": false,
    "pycharm": {
     "name": "#%%\n"
    }
   }
  }
 ],
 "metadata": {
  "kernelspec": {
   "display_name": "Python 3",
   "language": "python",
   "name": "python3"
  },
  "language_info": {
   "codemirror_mode": {
    "name": "ipython",
    "version": 2
   },
   "file_extension": ".py",
   "mimetype": "text/x-python",
   "name": "python",
   "nbconvert_exporter": "python",
   "pygments_lexer": "ipython2",
   "version": "2.7.6"
  }
 },
 "nbformat": 4,
 "nbformat_minor": 0
}