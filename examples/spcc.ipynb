{
 "cells": [
  {
   "cell_type": "code",
   "execution_count": 1,
   "metadata": {},
   "outputs": [
    {
     "name": "stderr",
     "output_type": "stream",
     "text": [
      "/Users/adammoss/opt/anaconda3/envs/astro_datasets/lib/python3.8/site-packages/tqdm/auto.py:22: TqdmWarning: IProgress not found. Please update jupyter and ipywidgets. See https://ipywidgets.readthedocs.io/en/stable/user_install.html\n",
      "  from .autonotebook import tqdm as notebook_tqdm\n",
      "WARNING:absl:`tfds.core.add_checksums_dir` is deprecated. Refactor dataset in self-contained folders (`my_dataset/` folder containing my_dataset.py, my_dataset_test.py, dummy_data/, checksums.tsv). The checksum file will be automatically detected. More info at: https://www.tensorflow.org/datasets/add_dataset\n"
     ]
    }
   ],
   "source": [
    "import sys, platform, os\n",
    "import matplotlib\n",
    "from matplotlib import pyplot as plt\n",
    "import numpy as np\n",
    "import tensorflow_datasets as tfds\n",
    "import tensorflow as tf\n",
    "path = os.path.realpath(os.path.join(os.getcwd(),'../'))\n",
    "sys.path.insert(0, path)\n",
    "import astro_datasets"
   ]
  },
  {
   "cell_type": "code",
   "execution_count": 2,
   "metadata": {},
   "outputs": [
    {
     "data": {
      "application/javascript": [
       "IPython.OutputArea.prototype._should_scroll = function(lines) {\n",
       "    return false;\n",
       "}\n"
      ],
      "text/plain": [
       "<IPython.core.display.Javascript object>"
      ]
     },
     "metadata": {},
     "output_type": "display_data"
    }
   ],
   "source": [
    "%%javascript\n",
    "IPython.OutputArea.prototype._should_scroll = function(lines) {\n",
    "    return false;\n",
    "}"
   ]
  },
  {
   "cell_type": "code",
   "execution_count": 3,
   "metadata": {},
   "outputs": [],
   "source": [
    "drop_fraction = 0.5"
   ]
  },
  {
   "cell_type": "code",
   "execution_count": 4,
   "metadata": {},
   "outputs": [],
   "source": [
    "def augment(*data):\n",
    "    inputs, label = data\n",
    "    static, times, values, measurements, lengths = inputs[0:5]\n",
    "    drop_condition = tf.random.uniform(tf.shape(measurements)) < \\\n",
    "                tf.ones(tf.shape(measurements), dtype=tf.float32) * tf.random.uniform(shape=(1,), minval=0, maxval=drop_fraction)\n",
    "    measurements = tf.where(\n",
    "        drop_condition,\n",
    "        tf.cast(tf.zeros(tf.shape(measurements)), dtype=tf.bool),\n",
    "        measurements\n",
    "    )\n",
    "    return (static, times, values, measurements) + inputs[4:], label"
   ]
  },
  {
   "cell_type": "code",
   "execution_count": 5,
   "metadata": {},
   "outputs": [],
   "source": [
    "def preprocess(*data):\n",
    "    inputs, label = data\n",
    "    static, times, values, measurements, lengths = inputs[0:5]\n",
    "    times = times - times[0]\n",
    "    return (static, times, values, measurements) + inputs[4:], label"
   ]
  },
  {
   "cell_type": "code",
   "execution_count": 6,
   "metadata": {},
   "outputs": [],
   "source": [
    "def test_dataset(name, split, builder_kwargs={}):\n",
    "    ds, info = tfds.load(name=name, split=split, with_info=True, as_supervised=True, builder_kwargs=builder_kwargs)\n",
    "    ds = ds.map(augment)\n",
    "    ds = ds.map(preprocess)\n",
    "    print(info)\n",
    "    for d in ds.take(2):\n",
    "        inputs, label = d\n",
    "        static, times, values, measurements, lengths, static_errors, value_errors = inputs\n",
    "        plt.figure(figsize=(6, 2))\n",
    "        print(static, label)\n",
    "        plt.pcolormesh(times, np.arange(int(values.shape[1])), values.numpy().T)\n",
    "        plt.show()"
   ]
  },
  {
   "cell_type": "code",
   "execution_count": 7,
   "metadata": {},
   "outputs": [
    {
     "name": "stderr",
     "output_type": "stream",
     "text": [
      "2022-07-07 10:52:42.075165: I tensorflow/core/platform/cpu_feature_guard.cc:193] This TensorFlow binary is optimized with oneAPI Deep Neural Network Library (oneDNN) to use the following CPU instructions in performance-critical operations:  AVX2 FMA\n",
      "To enable them in other operations, rebuild TensorFlow with the appropriate compiler flags.\n"
     ]
    },
    {
     "name": "stdout",
     "output_type": "stream",
     "text": [
      "tfds.core.DatasetInfo(\n",
      "    name='spcc',\n",
      "    full_name='spcc/1.0.10',\n",
      "    description=\"\"\"\n",
      "    \n",
      "    \"\"\",\n",
      "    homepage='https://www.tensorflow.org/datasets/catalog/spcc',\n",
      "    data_path='/Users/adammoss/tensorflow_datasets/spcc/1.0.10',\n",
      "    file_format=tfrecord,\n",
      "    download_size=26.38 MiB,\n",
      "    dataset_size=28.53 MiB,\n",
      "    features=FeaturesDict({\n",
      "        'metadata': FeaturesDict({\n",
      "            'object_id': tf.uint32,\n",
      "            'redshift': tf.float32,\n",
      "        }),\n",
      "        'static': Tensor(shape=(2,), dtype=tf.float32),\n",
      "        'static_errors': Tensor(shape=(2,), dtype=tf.float32),\n",
      "        'targets': FeaturesDict({\n",
      "            'class': ClassLabel(shape=(), dtype=tf.int64, num_classes=8),\n",
      "            'sn1a': ClassLabel(shape=(), dtype=tf.int64, num_classes=2),\n",
      "        }),\n",
      "        'time': Tensor(shape=(None,), dtype=tf.float32),\n",
      "        'value_errors': Tensor(shape=(None, 4), dtype=tf.float32),\n",
      "        'values': Tensor(shape=(None, 4), dtype=tf.float32),\n",
      "    }),\n",
      "    supervised_keys=('combined', 'target'),\n",
      "    disable_shuffling=False,\n",
      "    splits={\n",
      "        'test': <SplitInfo num_examples=20216, num_shards=1>,\n",
      "        'train': <SplitInfo num_examples=1103, num_shards=1>,\n",
      "    },\n",
      "    citation=\"\"\"@article{kessler2010results,\n",
      "      title={Results from the supernova photometric classification challenge},\n",
      "      author={Kessler, Richard and Bassett, Bruce and Belov, Pavel and Bhatnagar, Vasudha and Campbell, Heather and Conley, Alex and Frieman, Joshua A and Glazov, Alexandre and Gonz{'a}lez-Gait{'a}n, Santiago and Hlozek, Ren{'e}e and others},\n",
      "      journal={Publications of the Astronomical Society of the Pacific},\n",
      "      volume={122},\n",
      "      number={898},\n",
      "      pages={1415},\n",
      "      year={2010},\n",
      "      publisher={IOP Publishing}\n",
      "    }\"\"\",\n",
      ")\n",
      "tf.Tensor([0.7126 0.0227], shape=(2,), dtype=float32) tf.Tensor(1, shape=(), dtype=int64)\n"
     ]
    },
    {
     "data": {
      "image/png": "[encoded data removed]",
      "text/plain": [
       "<Figure size 432x144 with 1 Axes>"
      ]
     },
     "metadata": {
      "needs_background": "light"
     },
     "output_type": "display_data"
    },
    {
     "name": "stdout",
     "output_type": "stream",
     "text": [
      "tf.Tensor([0.2622 0.0713], shape=(2,), dtype=float32) tf.Tensor(0, shape=(), dtype=int64)\n"
     ]
    },
    {
     "data": {
      "image/png": "[encoded data removed]",
      "text/plain": [
       "<Figure size 432x144 with 1 Axes>"
      ]
     },
     "metadata": {
      "needs_background": "light"
     },
     "output_type": "display_data"
    },
    {
     "name": "stderr",
     "output_type": "stream",
     "text": [
      "2022-07-07 10:52:42.619452: W tensorflow/core/kernels/data/cache_dataset_ops.cc:856] The calling iterator did not fully read the dataset being cached. In order to avoid unexpected truncation of the dataset, the partially cached contents of the dataset  will be discarded. This can happen if you have an input pipeline similar to `dataset.cache().take(k).repeat()`. You should use `dataset.take(k).cache().repeat()` instead.\n"
     ]
    }
   ],
   "source": [
    "test_dataset('spcc', 'train', builder_kwargs={'default_target': 'sn1a'})"
   ]
  },
  {
   "cell_type": "code",
   "execution_count": 8,
   "metadata": {},
   "outputs": [
    {
     "name": "stdout",
     "output_type": "stream",
     "text": [
      "tfds.core.DatasetInfo(\n",
      "    name='spcc',\n",
      "    full_name='spcc/1.0.10',\n",
      "    description=\"\"\"\n",
      "    \n",
      "    \"\"\",\n",
      "    homepage='https://www.tensorflow.org/datasets/catalog/spcc',\n",
      "    data_path='/Users/adammoss/tensorflow_datasets/spcc/1.0.10',\n",
      "    file_format=tfrecord,\n",
      "    download_size=26.38 MiB,\n",
      "    dataset_size=28.53 MiB,\n",
      "    features=FeaturesDict({\n",
      "        'metadata': FeaturesDict({\n",
      "            'object_id': tf.uint32,\n",
      "            'redshift': tf.float32,\n",
      "        }),\n",
      "        'static': Tensor(shape=(2,), dtype=tf.float32),\n",
      "        'static_errors': Tensor(shape=(2,), dtype=tf.float32),\n",
      "        'targets': FeaturesDict({\n",
      "            'class': ClassLabel(shape=(), dtype=tf.int64, num_classes=8),\n",
      "            'sn1a': ClassLabel(shape=(), dtype=tf.int64, num_classes=2),\n",
      "        }),\n",
      "        'time': Tensor(shape=(None,), dtype=tf.float32),\n",
      "        'value_errors': Tensor(shape=(None, 4), dtype=tf.float32),\n",
      "        'values': Tensor(shape=(None, 4), dtype=tf.float32),\n",
      "    }),\n",
      "    supervised_keys=('combined', 'target'),\n",
      "    disable_shuffling=False,\n",
      "    splits={\n",
      "        'test': <SplitInfo num_examples=20216, num_shards=1>,\n",
      "        'train': <SplitInfo num_examples=1103, num_shards=1>,\n",
      "    },\n",
      "    citation=\"\"\"@article{kessler2010results,\n",
      "      title={Results from the supernova photometric classification challenge},\n",
      "      author={Kessler, Richard and Bassett, Bruce and Belov, Pavel and Bhatnagar, Vasudha and Campbell, Heather and Conley, Alex and Frieman, Joshua A and Glazov, Alexandre and Gonz{'a}lez-Gait{'a}n, Santiago and Hlozek, Ren{'e}e and others},\n",
      "      journal={Publications of the Astronomical Society of the Pacific},\n",
      "      volume={122},\n",
      "      number={898},\n",
      "      pages={1415},\n",
      "      year={2010},\n",
      "      publisher={IOP Publishing}\n",
      "    }\"\"\",\n",
      ")\n",
      "tf.Tensor([0.7126 0.0227], shape=(2,), dtype=float32) tf.Tensor(0, shape=(), dtype=int64)\n"
     ]
    },
    {
     "data": {
      "image/png": "[encoded data removed]",
      "text/plain": [
       "<Figure size 432x144 with 1 Axes>"
      ]
     },
     "metadata": {
      "needs_background": "light"
     },
     "output_type": "display_data"
    },
    {
     "name": "stdout",
     "output_type": "stream",
     "text": [
      "tf.Tensor([0.2622 0.0713], shape=(2,), dtype=float32) tf.Tensor(7, shape=(), dtype=int64)\n"
     ]
    },
    {
     "data": {
      "image/png": "[encoded data removed]",
      "text/plain": [
       "<Figure size 432x144 with 1 Axes>"
      ]
     },
     "metadata": {
      "needs_background": "light"
     },
     "output_type": "display_data"
    },
    {
     "name": "stderr",
     "output_type": "stream",
     "text": [
      "2022-07-07 10:52:42.967119: W tensorflow/core/kernels/data/cache_dataset_ops.cc:856] The calling iterator did not fully read the dataset being cached. In order to avoid unexpected truncation of the dataset, the partially cached contents of the dataset  will be discarded. This can happen if you have an input pipeline similar to `dataset.cache().take(k).repeat()`. You should use `dataset.take(k).cache().repeat()` instead.\n"
     ]
    }
   ],
   "source": [
    "test_dataset('spcc', 'train')"
   ]
  },
  {
   "cell_type": "code",
   "execution_count": 9,
   "metadata": {},
   "outputs": [
    {
     "name": "stdout",
     "output_type": "stream",
     "text": [
      "tfds.core.DatasetInfo(\n",
      "    name='plasticc',\n",
      "    full_name='plasticc/1.0.10',\n",
      "    description=\"\"\"\n",
      "    \n",
      "    \"\"\",\n",
      "    homepage='https://zenodo.org/record/2539456#.XzsWWxNKibs',\n",
      "    data_path='/Users/adammoss/tensorflow_datasets/plasticc/1.0.10',\n",
      "    file_format=tfrecord,\n",
      "    download_size=312.53 MiB,\n",
      "    dataset_size=244.56 MiB,\n",
      "    features=FeaturesDict({\n",
      "        'metadata': FeaturesDict({\n",
      "            'object_id': tf.uint32,\n",
      "            'redshift': tf.float32,\n",
      "        }),\n",
      "        'static': Tensor(shape=(3,), dtype=tf.float32),\n",
      "        'static_errors': Tensor(shape=(3,), dtype=tf.float32),\n",
      "        'targets': FeaturesDict({\n",
      "            'class': ClassLabel(shape=(), dtype=tf.int64, num_classes=15),\n",
      "            'sn1a': ClassLabel(shape=(), dtype=tf.int64, num_classes=2),\n",
      "        }),\n",
      "        'time': Tensor(shape=(None,), dtype=tf.float32),\n",
      "        'value_errors': Tensor(shape=(None, 6), dtype=tf.float32),\n",
      "        'values': Tensor(shape=(None, 6), dtype=tf.float32),\n",
      "    }),\n",
      "    supervised_keys=('combined', 'target'),\n",
      "    disable_shuffling=False,\n",
      "    splits={\n",
      "        'test': <SplitInfo num_examples=32926, num_shards=2>,\n",
      "        'train': <SplitInfo num_examples=7848, num_shards=1>,\n",
      "    },\n",
      "    citation=\"\"\"@article{Kessler:2019qge,\n",
      "        author = \"Kessler, R. and others\",\n",
      "        collaboration = \"LSST Dark Energy Science, Transient, Variable Stars Science\",\n",
      "        title = \"{Models and Simulations for the Photometric LSST Astronomical Time Series Classification Challenge (PLAsTiCC)}\",\n",
      "        eprint = \"1903.11756\",\n",
      "        archivePrefix = \"arXiv\",\n",
      "        primaryClass = \"astro-ph.HE\",\n",
      "        doi = \"10.1088/1538-3873/ab26f1\",\n",
      "        journal = \"Publ. Astron. Soc. Pac.\",\n",
      "        volume = \"131\",\n",
      "        number = \"1003\",\n",
      "        pages = \"094501\",\n",
      "        year = \"2019\"\n",
      "    }\"\"\",\n",
      ")\n",
      "tf.Tensor([1.109 0.02  1.   ], shape=(3,), dtype=float32) tf.Tensor(10, shape=(), dtype=int64)\n"
     ]
    },
    {
     "data": {
      "image/png": "[encoded data removed]",
      "text/plain": [
       "<Figure size 432x144 with 1 Axes>"
      ]
     },
     "metadata": {
      "needs_background": "light"
     },
     "output_type": "display_data"
    },
    {
     "name": "stdout",
     "output_type": "stream",
     "text": [
      "tf.Tensor([0.    0.027 0.   ], shape=(3,), dtype=float32) tf.Tensor(8, shape=(), dtype=int64)\n"
     ]
    },
    {
     "data": {
      "image/png": "[encoded data removed]",
      "text/plain": [
       "<Figure size 432x144 with 1 Axes>"
      ]
     },
     "metadata": {
      "needs_background": "light"
     },
     "output_type": "display_data"
    },
    {
     "name": "stderr",
     "output_type": "stream",
     "text": [
      "2022-07-07 10:52:43.307707: W tensorflow/core/kernels/data/cache_dataset_ops.cc:856] The calling iterator did not fully read the dataset being cached. In order to avoid unexpected truncation of the dataset, the partially cached contents of the dataset  will be discarded. This can happen if you have an input pipeline similar to `dataset.cache().take(k).repeat()`. You should use `dataset.take(k).cache().repeat()` instead.\n"
     ]
    }
   ],
   "source": [
    "test_dataset('plasticc', 'train')"
   ]
  },
  {
   "cell_type": "code",
   "execution_count": null,
   "metadata": {},
   "outputs": [],
   "source": []
  }
 ],
 "metadata": {
  "kernelspec": {
   "display_name": "Python 3 (ipykernel)",
   "language": "python",
   "name": "python3"
  },
  "language_info": {
   "codemirror_mode": {
    "name": "ipython",
    "version": 3
   },
   "file_extension": ".py",
   "mimetype": "text/x-python",
   "name": "python",
   "nbconvert_exporter": "python",
   "pygments_lexer": "ipython3",
   "version": "3.8.13"
  }
 },
 "nbformat": 4,
 "nbformat_minor": 4
}
